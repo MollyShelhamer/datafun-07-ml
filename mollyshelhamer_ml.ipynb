{
 "cells": [
  {
   "cell_type": "markdown",
   "id": "7f1971c4",
   "metadata": {},
   "source": [
    "# Project 7: Predictive ML Project\n",
    "##### Molly Shelhamer 08/05/2025"
   ]
  },
  {
   "cell_type": "markdown",
   "id": "16bbf061",
   "metadata": {},
   "source": [
    "## Imports"
   ]
  },
  {
   "cell_type": "code",
   "execution_count": null,
   "id": "84b8aed0",
   "metadata": {
    "vscode": {
     "languageId": "plaintext"
    }
   },
   "outputs": [],
   "source": [
    "import"
   ]
  }
 ],
 "metadata": {
  "language_info": {
   "name": "python"
  }
 },
 "nbformat": 4,
 "nbformat_minor": 5
}
